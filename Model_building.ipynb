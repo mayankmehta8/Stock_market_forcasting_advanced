{
 "cells": [
  {
   "cell_type": "code",
   "execution_count": 52,
   "id": "c979b1d4-ec1e-4b99-8a33-d8cb2d26ccd9",
   "metadata": {},
   "outputs": [],
   "source": [
    "import os"
   ]
  },
  {
   "cell_type": "code",
   "execution_count": 53,
   "id": "0b992e4b-fde6-4c75-8b5c-19cf0e5d8d7d",
   "metadata": {},
   "outputs": [],
   "source": [
    "import pandas as pd\n",
    "from sklearn.preprocessing import StandardScaler"
   ]
  },
  {
   "cell_type": "code",
   "execution_count": 71,
   "id": "2e11c339-a150-492e-b176-10748c125c7c",
   "metadata": {},
   "outputs": [],
   "source": [
    "import numpy as np\n",
    "import joblib\n"
   ]
  },
  {
   "cell_type": "code",
   "execution_count": 55,
   "id": "bf22c790-ae31-414c-a872-cdba8644425c",
   "metadata": {},
   "outputs": [],
   "source": [
    "import torch\n",
    "import torch.nn as nn\n",
    "from torch.utils.data import DataLoader, TensorDataset\n",
    "from sklearn.metrics import accuracy_score, confusion_matrix\n"
   ]
  },
  {
   "cell_type": "code",
   "execution_count": 56,
   "id": "b440b665-4946-4539-b4d8-3f646b35320a",
   "metadata": {},
   "outputs": [],
   "source": [
    "df = pd.read_csv(\"./AAPL_ta_dataset.csv\")"
   ]
  },
  {
   "cell_type": "code",
   "execution_count": 57,
   "id": "e162f54c-c1bd-4d71-9889-bcca1f30e031",
   "metadata": {},
   "outputs": [],
   "source": [
    "features = ['Open', 'High', 'Low', 'Close', 'Volume',\n",
    "            'rsi', 'stoch_k', 'macd', 'macd_signal',\n",
    "            'sma_20', 'ema_20', 'bb_upper', 'bb_lower',\n",
    "            'atr', 'adx']\n",
    "\n",
    "X = df[features].copy()\n",
    "y = df['target'].copy()\n",
    "\n",
    "# Normalize features\n",
    "scaler = StandardScaler()\n",
    "X_scaled = scaler.fit_transform(X)\n"
   ]
  },
  {
   "cell_type": "code",
   "execution_count": 58,
   "id": "12e1b2c6-0626-45a0-959e-76dfffae2233",
   "metadata": {},
   "outputs": [],
   "source": [
    "def create_sequences(X, y, window_size=30):\n",
    "    X_seq, y_seq = [], []\n",
    "    for i in range(window_size, len(X)):\n",
    "        X_seq.append(X[i-window_size:i])\n",
    "        y_seq.append(y[i])\n",
    "    return np.array(X_seq), np.array(y_seq)\n",
    "\n",
    "X_seq, y_seq = create_sequences(X_scaled, y.values)\n"
   ]
  },
  {
   "cell_type": "code",
   "execution_count": 59,
   "id": "889dd690-a610-48d8-9291-ac7477553c94",
   "metadata": {},
   "outputs": [],
   "source": [
    "split = int(len(X_seq) * 0.8)\n",
    "X_train, X_test = X_seq[:split], X_seq[split:]\n",
    "y_train, y_test = y_seq[:split], y_seq[split:]\n"
   ]
  },
  {
   "cell_type": "code",
   "execution_count": 60,
   "id": "85daf59b-acd6-4288-9fd2-44ad1284085f",
   "metadata": {},
   "outputs": [],
   "source": [
    "class LSTMModel(nn.Module):\n",
    "    def __init__(self, input_size, hidden_size=64, num_layers=2):\n",
    "        super().__init__()\n",
    "        self.lstm = nn.LSTM(input_size, hidden_size, num_layers, batch_first=True)\n",
    "        self.fc = nn.Sequential(\n",
    "            nn.Linear(hidden_size, 64),\n",
    "            nn.ReLU(),\n",
    "            nn.Dropout(0.2),\n",
    "            nn.Linear(64, 1),\n",
    "            nn.Sigmoid()\n",
    "        )\n",
    "\n",
    "    def forward(self, x):\n",
    "        _, (h_n, _) = self.lstm(x)\n",
    "        out = self.fc(h_n[-1])\n",
    "        return out\n"
   ]
  },
  {
   "cell_type": "code",
   "execution_count": 61,
   "id": "345adf11-a101-4e6d-ba0b-9c706eada5b7",
   "metadata": {},
   "outputs": [
    {
     "name": "stdout",
     "output_type": "stream",
     "text": [
      "Epoch 1 Loss: 22.8467\n",
      "Epoch 2 Loss: 22.8076\n",
      "Epoch 3 Loss: 22.7921\n",
      "Epoch 4 Loss: 22.7292\n",
      "Epoch 5 Loss: 22.7579\n",
      "Epoch 6 Loss: 22.6932\n",
      "Epoch 7 Loss: 22.6604\n",
      "Epoch 8 Loss: 22.6017\n",
      "Epoch 9 Loss: 22.6023\n",
      "Epoch 10 Loss: 22.6212\n"
     ]
    }
   ],
   "source": [
    "device = torch.device(\"cuda\" if torch.cuda.is_available() else \"cpu\")\n",
    "\n",
    "train_ds = TensorDataset(torch.tensor(X_train, dtype=torch.float32),\n",
    "                         torch.tensor(y_train, dtype=torch.float32))\n",
    "train_loader = DataLoader(train_ds, batch_size=32, shuffle=True)\n",
    "\n",
    "model = LSTMModel(input_size=15).to(device)\n",
    "loss_fn = nn.BCELoss()\n",
    "optimizer = torch.optim.Adam(model.parameters(), lr=1e-3)\n",
    "\n",
    "# Training loop\n",
    "for epoch in range(10):\n",
    "    model.train()\n",
    "    total_loss = 0\n",
    "    for xb, yb in train_loader:\n",
    "        xb, yb = xb.to(device), yb.to(device).unsqueeze(1)\n",
    "        preds = model(xb)\n",
    "        loss = loss_fn(preds, yb)\n",
    "        optimizer.zero_grad()\n",
    "        loss.backward()\n",
    "        optimizer.step()\n",
    "        total_loss += loss.item()\n",
    "    print(f\"Epoch {epoch+1} Loss: {total_loss:.4f}\")\n"
   ]
  },
  {
   "cell_type": "code",
   "execution_count": 62,
   "id": "0d98b5ea-69ea-4674-bfb7-3ca1a4b40ec0",
   "metadata": {},
   "outputs": [
    {
     "name": "stdout",
     "output_type": "stream",
     "text": [
      "Test Accuracy: 0.4411\n",
      "Confusion Matrix:\n",
      "[[116   0]\n",
      " [147   0]]\n"
     ]
    }
   ],
   "source": [
    "model.eval()\n",
    "with torch.no_grad():\n",
    "    X_test_t = torch.tensor(X_test, dtype=torch.float32).to(device)\n",
    "    y_pred = model(X_test_t).cpu().numpy().flatten()\n",
    "    y_pred_class = (y_pred > 0.5).astype(int)\n",
    "\n",
    "acc_lstm = accuracy_score(y_test, y_pred_class)\n",
    "print(f\"Test Accuracy: {acc_lstm:.4f}\")\n",
    "cm_lstm = confusion_matrix(y_test, y_pred_class)\n",
    "print(\"Confusion Matrix:\")\n",
    "print(confusion_matrix(y_test, y_pred_class))\n"
   ]
  },
  {
   "cell_type": "code",
   "execution_count": 63,
   "id": "d35d0973-c8ac-4fa7-9a38-51b684c88d64",
   "metadata": {},
   "outputs": [],
   "source": [
    "class TransformerModel(nn.Module):\n",
    "    def __init__(self, input_dim=15, seq_len=30, d_model=64, nhead=4, num_layers=2, dropout=0.1):\n",
    "        super().__init__()\n",
    "        self.input_proj = nn.Linear(input_dim, d_model)\n",
    "        encoder_layer = nn.TransformerEncoderLayer(\n",
    "            d_model=d_model,\n",
    "            nhead=nhead,\n",
    "            dim_feedforward=128,\n",
    "            dropout=dropout,\n",
    "            batch_first=True\n",
    "        )\n",
    "        self.transformer = nn.TransformerEncoder(encoder_layer, num_layers=num_layers)\n",
    "        self.cls_head = nn.Sequential(\n",
    "            nn.Linear(seq_len * d_model, 128),\n",
    "            nn.ReLU(),\n",
    "            nn.Dropout(dropout),\n",
    "            nn.Linear(128, 1),\n",
    "            nn.Sigmoid()\n",
    "        )\n",
    "\n",
    "    def forward(self, x):\n",
    "        # x: (batch_size, seq_len, input_dim)\n",
    "        x = self.input_proj(x)  # (batch, seq_len, d_model)\n",
    "        x = self.transformer(x)  # (batch, seq_len, d_model)\n",
    "        x = x.flatten(start_dim=1)  # flatten across time\n",
    "        return self.cls_head(x)\n"
   ]
  },
  {
   "cell_type": "code",
   "execution_count": 64,
   "id": "bff6b7a7-9757-4c65-9a06-93fee32fc370",
   "metadata": {},
   "outputs": [
    {
     "name": "stdout",
     "output_type": "stream",
     "text": [
      "Epoch 1 Loss: 24.1524\n",
      "Epoch 2 Loss: 23.0653\n",
      "Epoch 3 Loss: 22.8139\n",
      "Epoch 4 Loss: 22.8646\n",
      "Epoch 5 Loss: 22.6560\n",
      "Epoch 6 Loss: 22.5653\n",
      "Epoch 7 Loss: 22.4535\n",
      "Epoch 8 Loss: 22.0161\n",
      "Epoch 9 Loss: 21.9268\n",
      "Epoch 10 Loss: 21.7895\n"
     ]
    }
   ],
   "source": [
    "device = torch.device(\"cuda\" if torch.cuda.is_available() else \"cpu\")\n",
    "\n",
    "train_ds = TensorDataset(torch.tensor(X_train, dtype=torch.float32),\n",
    "                         torch.tensor(y_train, dtype=torch.float32))\n",
    "train_loader = DataLoader(train_ds, batch_size=32, shuffle=True)\n",
    "\n",
    "model = TransformerModel(input_dim=15, seq_len=30).to(device)\n",
    "loss_fn = nn.BCELoss()\n",
    "optimizer = torch.optim.Adam(model.parameters(), lr=1e-3)\n",
    "\n",
    "# Training loop\n",
    "for epoch in range(10):\n",
    "    model.train()\n",
    "    total_loss = 0\n",
    "    for xb, yb in train_loader:\n",
    "        xb, yb = xb.to(device), yb.to(device).unsqueeze(1)\n",
    "        preds = model(xb)\n",
    "        loss = loss_fn(preds, yb)\n",
    "        optimizer.zero_grad()\n",
    "        loss.backward()\n",
    "        optimizer.step()\n",
    "        total_loss += loss.item()\n",
    "    print(f\"Epoch {epoch+1} Loss: {total_loss:.4f}\")\n"
   ]
  },
  {
   "cell_type": "code",
   "execution_count": 65,
   "id": "7523d8d0-1f13-44c9-aa8f-dcc9575998ca",
   "metadata": {},
   "outputs": [
    {
     "name": "stdout",
     "output_type": "stream",
     "text": [
      "Test Accuracy: 0.4791\n",
      "Confusion Matrix:\n",
      "[[107   9]\n",
      " [128  19]]\n"
     ]
    }
   ],
   "source": [
    "model.eval()\n",
    "with torch.no_grad():\n",
    "    X_test_t = torch.tensor(X_test, dtype=torch.float32).to(device)\n",
    "    y_pred = model(X_test_t).cpu().numpy().flatten()\n",
    "    y_pred_class = (y_pred > 0.5).astype(int)\n",
    "\n",
    "acc_tf = accuracy_score(y_test, y_pred_class)\n",
    "print(f\"Test Accuracy: {acc_tf:.4f}\")\n",
    "cm_tf = confusion_matrix(y_test, y_pred_class)\n",
    "print(\"Confusion Matrix:\")\n",
    "print(confusion_matrix(y_test, y_pred_class))\n"
   ]
  },
  {
   "cell_type": "code",
   "execution_count": 66,
   "id": "28f1278b-11d7-4b97-9e4b-bcdfb2809a51",
   "metadata": {},
   "outputs": [],
   "source": [
    "class xLSTMModel(nn.Module):\n",
    "    def __init__(self, input_size=15, hidden_sizes=[32, 64, 128], dropout=0.2):\n",
    "        super().__init__()\n",
    "        self.lstm_blocks = nn.ModuleList([\n",
    "            nn.LSTM(input_size, h, batch_first=True) for h in hidden_sizes\n",
    "        ])\n",
    "        self.fc = nn.Sequential(\n",
    "            nn.Linear(sum(hidden_sizes), 128),\n",
    "            nn.ReLU(),\n",
    "            nn.Dropout(dropout),\n",
    "            nn.Linear(128, 1),\n",
    "            nn.Sigmoid()\n",
    "        )\n",
    "\n",
    "    def forward(self, x):\n",
    "        outputs = []\n",
    "        for lstm in self.lstm_blocks:\n",
    "            _, (h_n, _) = lstm(x)\n",
    "            outputs.append(h_n[-1])  # get final hidden state\n",
    "        x = torch.cat(outputs, dim=1)\n",
    "        return self.fc(x)"
   ]
  },
  {
   "cell_type": "code",
   "execution_count": 67,
   "id": "ebe154b0-d01a-4f6a-8c03-fc99f7b6854d",
   "metadata": {},
   "outputs": [
    {
     "name": "stdout",
     "output_type": "stream",
     "text": [
      "Epoch 1 Loss: 22.8584\n",
      "Epoch 2 Loss: 22.7396\n",
      "Epoch 3 Loss: 22.8193\n",
      "Epoch 4 Loss: 22.6901\n",
      "Epoch 5 Loss: 22.6772\n",
      "Epoch 6 Loss: 22.6750\n",
      "Epoch 7 Loss: 22.6184\n",
      "Epoch 8 Loss: 22.5370\n",
      "Epoch 9 Loss: 22.5406\n",
      "Epoch 10 Loss: 22.6042\n"
     ]
    }
   ],
   "source": [
    "device = torch.device(\"cuda\" if torch.cuda.is_available() else \"cpu\")\n",
    "\n",
    "train_ds = TensorDataset(torch.tensor(X_train, dtype=torch.float32),\n",
    "                         torch.tensor(y_train, dtype=torch.float32))\n",
    "train_loader = DataLoader(train_ds, batch_size=32, shuffle=True)\n",
    "\n",
    "model = xLSTMModel(input_size=15).to(device)\n",
    "loss_fn = nn.BCELoss()\n",
    "optimizer = torch.optim.Adam(model.parameters(), lr=1e-3)\n",
    "\n",
    "# Training\n",
    "for epoch in range(10):\n",
    "    model.train()\n",
    "    total_loss = 0\n",
    "    for xb, yb in train_loader:\n",
    "        xb, yb = xb.to(device), yb.to(device).unsqueeze(1)\n",
    "        preds = model(xb)\n",
    "        loss = loss_fn(preds, yb)\n",
    "        optimizer.zero_grad()\n",
    "        loss.backward()\n",
    "        optimizer.step()\n",
    "        total_loss += loss.item()\n",
    "    print(f\"Epoch {epoch+1} Loss: {total_loss:.4f}\")\n"
   ]
  },
  {
   "cell_type": "code",
   "execution_count": 68,
   "id": "3923fa43-4fb8-4416-8edf-b248889318ce",
   "metadata": {},
   "outputs": [
    {
     "name": "stdout",
     "output_type": "stream",
     "text": [
      "Test Accuracy: 0.5133\n",
      "Confusion Matrix:\n",
      "[[85 31]\n",
      " [97 50]]\n"
     ]
    }
   ],
   "source": [
    "model.eval()\n",
    "with torch.no_grad():\n",
    "    X_test_t = torch.tensor(X_test, dtype=torch.float32).to(device)\n",
    "    y_pred = model(X_test_t).cpu().numpy().flatten()\n",
    "    y_pred_class = (y_pred > 0.5).astype(int)\n",
    "\n",
    "acc_xlstm = accuracy_score(y_test, y_pred_class)\n",
    "print(f\"Test Accuracy: {acc_xlstm:.4f}\")\n",
    "cm_xlstm = confusion_matrix(y_test, y_pred_class)\n",
    "print(\"Confusion Matrix:\")\n",
    "print(confusion_matrix(y_test, y_pred_class))\n"
   ]
  },
  {
   "cell_type": "code",
   "execution_count": 69,
   "id": "84ab769a-0f9b-40ef-8aee-510bec887537",
   "metadata": {},
   "outputs": [
    {
     "name": "stdout",
     "output_type": "stream",
     "text": [
      "Model      Accuracy Variable    Accuracy Value \n",
      "--------------------------------------------------\n",
      "LSTM       acc_lstm             0.4411         \n",
      "TF         acc_tf               0.4791         \n",
      "xLSTM      acc_xlstm            0.5133         \n",
      "\n",
      "\n",
      "Confusion Matrix for LSTM:\n",
      "[[116   0]\n",
      " [147   0]]\n",
      "\n",
      "Confusion Matrix for TF:\n",
      "[[107   9]\n",
      " [128  19]]\n",
      "\n",
      "Confusion Matrix for xLSTM:\n",
      "[[85 31]\n",
      " [97 50]]\n",
      "\n"
     ]
    }
   ],
   "source": [
    "print(f\"{'Model':<10} {'Accuracy Variable':<20} {'Accuracy Value':<15}\")\n",
    "print(\"-\" * 50)\n",
    "print(f\"{'LSTM':<10} {'acc_lstm':<20} {acc_lstm:<15.4f}\")\n",
    "print(f\"{'TF':<10} {'acc_tf':<20} {acc_tf:<15.4f}\")\n",
    "print(f\"{'xLSTM':<10} {'acc_xlstm':<20} {acc_xlstm:<15.4f}\")\n",
    "print(\"\\n\")\n",
    "\n",
    "# Function to print confusion matrix with label\n",
    "def print_confusion_matrix(cm, model_name):\n",
    "    print(f\"Confusion Matrix for {model_name}:\")\n",
    "    print(cm)\n",
    "    print()\n",
    "\n",
    "# Print all confusion matrices\n",
    "print_confusion_matrix(cm_lstm, \"LSTM\")\n",
    "print_confusion_matrix(cm_tf, \"TF\")\n",
    "print_confusion_matrix(cm_xlstm, \"xLSTM\")"
   ]
  },
  {
   "cell_type": "code",
   "execution_count": 70,
   "id": "03eda0ed-d6aa-4ac7-a895-ebd58d980e48",
   "metadata": {},
   "outputs": [],
   "source": [
    "torch.save(model.state_dict(), 'xlstm_technical_model.pt')"
   ]
  },
  {
   "cell_type": "code",
   "execution_count": 72,
   "id": "3f1609f1-1120-449f-929e-a3f7489e74e7",
   "metadata": {},
   "outputs": [
    {
     "data": {
      "text/plain": [
       "['scaler.pkl']"
      ]
     },
     "execution_count": 72,
     "metadata": {},
     "output_type": "execute_result"
    }
   ],
   "source": [
    "joblib.dump(scaler, 'scaler.pkl')"
   ]
  },
  {
   "cell_type": "code",
   "execution_count": null,
   "id": "4bbb1a57-b5ed-464f-93d5-f16095eb79e5",
   "metadata": {},
   "outputs": [],
   "source": []
  }
 ],
 "metadata": {
  "kernelspec": {
   "display_name": "Python 3 (ipykernel)",
   "language": "python",
   "name": "python3"
  },
  "language_info": {
   "codemirror_mode": {
    "name": "ipython",
    "version": 3
   },
   "file_extension": ".py",
   "mimetype": "text/x-python",
   "name": "python",
   "nbconvert_exporter": "python",
   "pygments_lexer": "ipython3",
   "version": "3.13.2"
  }
 },
 "nbformat": 4,
 "nbformat_minor": 5
}
